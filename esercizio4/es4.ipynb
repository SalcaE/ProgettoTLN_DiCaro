{
 "cells": [
  {
   "cell_type": "markdown",
   "metadata": {},
   "source": [
    "# Esercizio Lab-4 : Text segmentation"
   ]
  },
  {
   "cell_type": "markdown",
   "metadata": {},
   "source": [
    "### Librerie principali"
   ]
  },
  {
   "cell_type": "code",
   "execution_count": null,
   "metadata": {},
   "outputs": [],
   "source": [
    "import spacy\n",
    "import numpy as np"
   ]
  },
  {
   "cell_type": "markdown",
   "metadata": {},
   "source": [
    "### Elaborazione del testo"
   ]
  },
  {
   "cell_type": "markdown",
   "metadata": {},
   "source": [
    "Nella funzione \"text_processing\" è stata usata la libreria di spacy per elaborare il documento: tokenizzazione e rimozione stopwords."
   ]
  },
  {
   "cell_type": "code",
   "execution_count": null,
   "metadata": {},
   "outputs": [],
   "source": [
    "def text_processing(filename):\n",
    "    texts =[]\n",
    "    spa = spacy.load('en_core_web_md')\n",
    "\n",
    "    with open(filename, 'r', encoding=\"utf8\") as f:\n",
    "        texts = f.read().splitlines()\n",
    "    sents = []\n",
    "    for text in texts:\n",
    "        doc = spa(text)\n",
    "        for sent in doc.sents:\n",
    "            sents.append(sent)\n",
    "\n",
    "    tokens = [[token.lemma_.lower() for token in sent    \n",
    "                        if not token.is_stop and \n",
    "                        not token.is_punct and token.text.strip() and \n",
    "                        len(token) >= 3] \n",
    "                        for sent in sents]\n",
    "    tokenized_sents = [x for x in tokens if x] \n",
    "\n",
    "    return tokenized_sents, sents"
   ]
  },
  {
   "cell_type": "markdown",
   "metadata": {},
   "source": [
    "### TextTiling"
   ]
  },
  {
   "cell_type": "markdown",
   "metadata": {},
   "source": [
    "Per l'implentazione dell'algoritmo di TextTiling è stata usata la tecnica del vocabulary-management, come indicata nell'articolo di Hearst, che sfrutta il rapporto tra le nuove parole diviso per la lunghezza dell'intervallo."
   ]
  },
  {
   "cell_type": "code",
   "execution_count": null,
   "metadata": {},
   "outputs": [],
   "source": [
    "def vocabulary(sentences):\n",
    "    new_words1 = set()\n",
    "    new_words2 = set(sentences[0])\n",
    "    scores=[]\n",
    "\n",
    "    for i in range(1,len(sentences)-1):\n",
    "        left_words = set(sentences[i-1]).difference(new_words1)\n",
    "        right_words = set(sentences[i+1]).difference(new_words2)\n",
    "        score = (len(left_words) + len(right_words)) / (len(sentences[i-1])+len(sentences[i+1]))\n",
    "        scores.append(score)\n",
    "        new_words1 = new_words1.union(sentences[i-1])\n",
    "        new_words2 = new_words2.union(sentences[i+1])\n",
    "    last = set(sentences[len(sentences)-1]).difference(new_words1)\n",
    "    scores.append(len(last)/len(sentences[len(sentences)-1]))\n",
    "    return scores"
   ]
  },
  {
   "cell_type": "markdown",
   "metadata": {},
   "source": [
    "Le seguenti funzioni vengono utilizzate per decidere dove inserire i boundaries attraverso il calcolo dello score per individuare la posizione migliore."
   ]
  },
  {
   "cell_type": "code",
   "execution_count": null,
   "metadata": {},
   "outputs": [],
   "source": [
    "def get_boundaries(scores):\n",
    "    boundaries=[]\n",
    "    mean = np.mean(scores) -  np.std(scores)\n",
    "    for i, score in enumerate(scores):\n",
    "        depth_scores = depth_score(scores, i, \"left\") + depth_score(scores, i, \"right\")\n",
    "        if depth_scores >= mean:\n",
    "            boundaries.append(i)\n",
    "    return boundaries\n",
    "\n",
    "def depth_score(scores, current, side): #cerco gli score migliori su cui mettere un confine\n",
    "    depth_score = 0\n",
    "    i = current\n",
    "    while scores[i] - scores[current] >= depth_score:\n",
    "        depth_score = scores[i] - scores[current]\n",
    "\n",
    "        if side == 'left':\n",
    "            i = i - 1\n",
    "            if (i < 0): break\n",
    "        else:\n",
    "            i = i + 1\n",
    "            if (i == len(scores)): break\n",
    "    return depth_score"
   ]
  },
  {
   "cell_type": "markdown",
   "metadata": {},
   "source": [
    "### Conclusioni"
   ]
  },
  {
   "cell_type": "markdown",
   "metadata": {},
   "source": [
    "Come possiamo vedere dal risultato, l'algortimo divide non solo il documento nei tre topic presenti, ma anche i paragrafi presenti in ognuno di essi con una buona accuratezza."
   ]
  },
  {
   "cell_type": "code",
   "execution_count": 2,
   "metadata": {},
   "outputs": [
    {
     "name": "stdout",
     "output_type": "stream",
     "text": [
      "[2, 4, 6, 9, 14, 16, 23, 25, 47, 49, 51, 69, 75, 77, 82, 84, 86, 88, 89, 90, 91, 98]\n",
      "Most work in discourse processing, both theoretical and computational, has focused on analysis of interclausal or intersentential phenomena.\n",
      "This level of analysis is important for many discourse-processing tasks, such as anaphor resolution and dialogue generation.\n",
      "However, important and interesting discourse phenomena also occur at the level of the paragraph.\n",
      "\n",
      "This article describes a paragraph-level model of discourse structure based on the notion of subtopic shift, and an algorithm for subdividing expository texts into multi-paragraph \"passages\" or subtopic segments.\n",
      "In this work, the structure of an expository text is characterized as a sequence of subtopical discussions that occur in the context of one or more main topic discussions.\n",
      "\n",
      "Consider a 21-paragraph science news article, called Stargazers, whose main topic is the existence of life on earth and other planets.\n",
      "Its contents can be described as consisting of the following subtopic discussions (numbers indicate paragraphs): Subtopic structure is sometimes marked in technical texts by headings and subheadings.\n",
      "\n",
      "Brown and Yule (1983, 140) state that this kind of division is one of the most basic in discourse.\n",
      "However, many expository texts consist of long sequences of paragraphs with very little structural demarcation, and for these a subtopical segmentation can be useful.\n",
      "This article describes fully implemented techniques for the automatic detection of multi-paragraph subtopical structure.\n",
      "\n",
      "Because the goal is to partition texts into contiguous, nonoverlapping subtopic segments, I call the general approach TextTiling (Hearst, 1993, 1994a, 1994b).\n",
      "1 Subtopic discussions are assumed to occur within the scope of one or more overarching main topics, which span the length of the text.\n",
      "This two-level structure is chosen for reasons of computational feasibility and for the purposes of the application types described below.\n",
      "TextTiling makes use of patterns of lexical co-occurrence and distribution.\n",
      "The algorithm has three parts: tokenization into terms and sentence-sized units, determination of a score for each sentence-sized unit, and detection of the subtopic boundaries, which are assumed to occur at the largest valleys in the graph that results from plotting sentence-units against scores.\n",
      "\n",
      "Three methods for score assignment have been explored: blocks, vocabulary introductions, and chains, although only the first two are evaluated in this article (the third is discussed in Hearst [1994b]).\n",
      "All three scoring methods make use only of patterns of lexical co-occurrence and distribution within texts, eschewing other kinds of discourse cues\n",
      "\n",
      "Writer-director Greta Gerwig’s cinematic reinvention of Mattel’s most (in)famous toy comes on like a sugar-rush mashup of Pixar’s Toy Story 2, Carlo Collodi’s Pinocchio, the cult live-action feature Josie and the Pussycats and the Roger Ebert-scripted exploitation romp Beyond the Valley of the Dolls.\n",
      "It’s a riotously entertaining candy-coloured feminist fable that manages simultaneously to celebrate, satirise and deconstruct its happy-plastic subject.\n",
      "Audiences will be delighted.\n",
      "Mattel should be ecstatic.\n",
      "After a heavily trailered 2001-parody opening, we move to a pastel pink haven in which, “thanks to Barbie, all problems of feminism and equal rights have been solved”.\n",
      "This is Barbieland – a fantasy world in which big-haired dolls can be anything (lawyers, doctors, physicists, presidents), thereby inspiring equivalent feminine achievement out there in the “real world”.\n",
      "(“We fixed everything so all women in the real world are happy and powerful!”).\n",
      "\n",
      "Like a dreamy version of the nightmarish Being John Malkovich, everyone here is Barbie.\n",
      "Except the men, who are just Ken.\n",
      "\n",
      "Or Allan (a hapless Michael Cera).\n",
      "But mainly just Ken – an appendage without an appendage.\n",
      "At the centre of all this self-referential fluff is producer-star Margot Robbie’s “Stereotypical Barbie” – a role so perfect that when Helen Mirren’s narrator makes a sardonic gag about the casting, no one minds.\n",
      "So it comes as a surprise when this habitually smiley creature finds herself haunted by thoughts of sadness, anxiety and death.\n",
      "Worse still, she develops flat feet and (whisper it!)\n",
      "cellulite – two horsemen of the Barbie apocalypse.\n",
      "A visit to Kate McKinnon’s “Weird Barbie” (“she was played with too hard”)\n",
      "reveals that a wormhole has opened between this world and the next.\n",
      "Now, like Amy Adams in Enchanted, our fairytale heroine must take a ride to reality, accompanied by Stowaway Ken (Ryan Gosling), who promptly discovers The Patriarchy, in which men (and horses) are in charge!\n",
      "Meanwhile at Mattel HQ, Will Ferrell is reprising his Lego Movie role as the adult quasher of childish dreams, demanding that Barbie get “back in the box”.\n",
      "But by now, Barbie has met gothy teen Sasha (Ariana Greenblatt), who tells her that “you’ve been making women feel bad about themselves since you were invented”, adding; “You set the feminist movement back 50 years, you fascist!”\n",
      "Far from saving the world, Barbie seems to have helped create a dystopia in which “men look at me like an object” and “everyone hates women!”.\n",
      "There’s something of the rebellious spirit of Todd Haynes’s 1988 cult classic Superstar: The Karen Carpenter Story about Gerwig’s deceptively upbeat blockbuster.\n",
      "Haynes’s zero-budget underground masterpiece (which has never had an official release) used increasingly disfigured Barbie dolls to tell the tragic story of a talented musician whose life was overshadowed by anorexia.\n",
      "Yet in Gerwig’s multiplex-friendly spectacular, this spectre of unrealisable expectation is slyly reconfigured into a weirdly liberating parable about being whatever (size, profession, attitude) you want to be – whether Ken and The Patriarchy like it or not.\n",
      "There are jokes about the red pill from The Matrix, the snow globe from Citizen Kane, the male “meaning” of Coppola’s The Godfather, and fanboyish emotional overinvestment in Zack Snyder’s director’s cut of Justice League.\n",
      "Yet Barbie is never anything less than inclusive – meaning that young(ish) fans raised on such animated staples as Barbie in the Nutcracker and Barbie of Swan Lake will find as much to cheer about as wizened old critics looking for smart film references.\n",
      "Like her terrific 2019 adaptation of Louisa May Alcott’s Little Women, Gerwig’s latest has no intention of ditching its source material’s core audience, even while allowing those with more snooty cinephile tastes to excuse their enjoyment of her film by comparing it with canonical works.\n",
      "A smart script, co-written with Noah Baumbach, reminds us of Mattel’s constant attempts to reinvent their product (Earring Magic Ken;Palm Beach Sugar Daddy; inflatable breasts Skipper – yes, really) and their embarrassed discontinuation of models that incurred consumer/retailer ire.\n",
      "It all culminates in an entertainingly feisty dismantling of male power (“He took your home; he brainwashed your friends; he wants to control the government”), pepped up by Gosling’s deliciously vacuous apex-Ken performance and carried shoulder-high by Robbie, without whom this audacious flim-flam could well have fallen flat on its face.\n",
      "A moving cameo by Rhea Perlman as the creator of all this madness lends a touch of heartfelt pathos.\n",
      "But it’s Robbie and Gerwig (along with the production designers and songwriters) who make this fizz, ensuring that everything is awesome, even when it isn’t.\n",
      "\n",
      "Most of us who are blind and use dogs as mobility aides often hear the following remark: \"What a beautiful seeing eye dog.\"\n",
      "Although all three of us are teamed with a dog, only Ed Eames has a seeing eye dog.\n",
      "\n",
      "Although Ed Eames may respond to this remark with a smile, Toni Gardiner and Chuck Warnath respond less favorably.\n",
      "Using the term seeing eye to refer to all dogs that guide biind people is like using the word Kleenex to refer to all tissues or Xerox to refer to all copy machines.\n",
      "\n",
      "Presently there are ten guide dog schools in the United States in addition to The Seeing Eye, Incorporated.\n",
      "When Toni Gardiner and Chuck Warnath are confronted with the statement: \"What a beautiful seeing eye dog,\" their response is: \"That's no seeing eye dog; that's my guide dog\" Today they can't even make that statement.\n",
      "Why not?\n",
      "Because now they're told that we have to call them dog guides.\n",
      "This revisionist movement to change our guide dogs into dog guides is apparent from the last issue of The Long Cane Newsletter in which the title of our forthcoming book \"A Guide to Guide Dog Schools\" was changed to \"A Guide to Dog Guide Schools.\"\n",
      "Why the insistance on this usage?\n",
      "The only reason we can think of is to compare dog guides with human guides.\n",
      "What are the arguments to sustain the use of guide dogs rather than dog guides?\n",
      "First, the term guide dogs is the traditional one used in the literature dealing with dogs to guide the blind.\n",
      "Even Peter Putnam, the official historian of The Seeing Eye, Incorporated, in his volume \"Love in the Lead,\" notes that he uses the term guide dog throughout the volume despite the fact that The Seeing Eye, Incorporated, prefers the usage of dog guide.\n",
      "Second, five of the eleven operational schools in the country that train such dogs use guide dogs in their school name.\n",
      "Third, the only existing state agency that licenses such schools, the California State Board of Guide Dogs for the Blind, has the term guide dog in its organizational name.\n",
      "Fourth, the use of the term guide dog places the functional purpose of the dog before the noun.\n",
      "This is common usage in English and parallels other terms such as signal dogs, dogs trained for the hearing impaired; service dogs, dogs trained for the physically handicapped; and therapy dogs, dogs trained for the mentally ill.\n",
      "Traditionally, dogs have been classified by their functions.\n",
      "Thus, we have hunting dogs, herding dogs, guard dogs, and even lap dogs.\n",
      "If we can contrast the term dog sled with sled dog, it seems apparent that a dog sled is a sled that would be pulled by dogs, whereas a sled dog is a dog who pulls a sled.\n",
      "In a similar fashion, show dog and house dog can be contrasted with dog show and dog house.\n",
      "\n",
      "By analysis, we conclude that a dog guide must be a guide to the various breeds of dogs.\n",
      "By contrast, a guide dog must be a dog that guides someone.\n",
      "From the above arguments it must be apparent that the three of us infinitely prefer the term guide dog to dog guide.\n",
      "We are not going to retitle our book.\n",
      "In addition, the next time an editor decides to tamper with our usage, we will organize a peaceful demonstration outside of the headquarters of the American Foundation for the Blind and bring all of our guide dogs with us.\n",
      "I have your interesting article on guide dogs, and before publishing it, I thought we should have a bit of dialogue.\n",
      "\n",
      "I had always used the term guide dog until somebody or another told me with some acerbity that a guide dog was trained by Guide Dogs, Inc., of San Rafael, California--that all dogs which guide the blind are not guide dogs any more than they are seeing eye dogs.\n",
      "In short, I was told in no uncertain manner that the only term open to me was dog guide.\n",
      "\n",
      "Presumably if someone should set up a school called Dog Guides, Inc., I would be deprived of even that.\n",
      "God knows what I would use then--\"canine ambulatory adjuncts,\" perhaps.\n",
      "But, of course, even that might disappear if it took somebody's fancy.\n",
      "The term dog guide has always struck me as artificial and stilted, but I use it--simply because I want to get along in the world, because I do not wish to trample on feelings unnecessarily, and because there is a limit as to how many and what kind of wars one can fight.\n",
      "Having said all of which, I now come straight to the nub of the matter:\n",
      "\n",
      "Tell me true.\n",
      "Is the term guide dog the property of the school in San Rafael, or have I been misled and misinformed?\n",
      "\n",
      "If I call a leader dog or a seeing eye dog a guide dog (purely in a generic sense, of course), will the dog bite me or the school sue me?\n",
      "Even if these things do not happen, will I be regarded as uninformed or lacking good taste?\n",
      "\n",
      "I express no opinion.\n",
      "I merely come as a humble seeker.\n",
      "\n",
      "Dear Dr, Jernigan: Thank you very much for your letter acknowledging the article prepared by us for publication in the Long Cane Newsletter.\n",
      "\n",
      "We, of course, share your concern for the proper use of language and the obvious potential for litigation.\n",
      "\n",
      "Certainly, if Guide Dogs for the Blind, Inc., of San Rafael, California, has a patent on the term \"guide dogs,\" then we would be in trouble.\n",
      "\n",
      "Like you, we had been told when we began writing our book that if we use the term guide dog we would open ourselves to a potential suit brought by the school in San Rafael.\n",
      "However, as we began to look at the previous literature and as we had contact with the school in San Rafael, such concerns disappeared.\n",
      "At this time, we do not believe that Guide Dogs for the Blind, Inc., or any other guide dog school would challenge our legal and legitimate right to use the term guide dog.\n",
      "Since four other schools have the term guide dog in their title, no one of them could claim a patent or trademark right to the term.\n",
      "When we first heard the term \"dog guide\" we were quite puzzled.\n",
      "Our first Impression was that this would have to be a book describing the various breeds of dogs in the United States.\n",
      "After all, what would a book guide be other than a book about books.\n",
      "\n",
      "However, the guide book would be quite something else.\n",
      "Therefore, after some confusion we went back to the term guide dog and are firmly committed to its use in our forthcoming publication, in our everyday conversations, and when we talk to our dogs.\n",
      "In fact, when we have listened in on conversations among our dogs we find that they still refer to themselves as guide dogs.\n"
     ]
    }
   ],
   "source": [
    "def print_results(boundaries, sentences):\n",
    "    print(boundaries)\n",
    "    for i, x in enumerate(sentences):\n",
    "        print(sentences[i])\n",
    "        if i in boundaries:\n",
    "            print()"
   ]
  }
 ],
 "metadata": {
  "kernelspec": {
   "display_name": "Python 3",
   "language": "python",
   "name": "python3"
  },
  "language_info": {
   "codemirror_mode": {
    "name": "ipython",
    "version": 3
   },
   "file_extension": ".py",
   "mimetype": "text/x-python",
   "name": "python",
   "nbconvert_exporter": "python",
   "pygments_lexer": "ipython3",
   "version": "3.11.2"
  },
  "orig_nbformat": 4
 },
 "nbformat": 4,
 "nbformat_minor": 2
}
