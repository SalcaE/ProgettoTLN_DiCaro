{
 "cells": [
  {
   "cell_type": "markdown",
   "metadata": {},
   "source": [
    "## Esercizio Lab-2 Content2Form"
   ]
  },
  {
   "cell_type": "markdown",
   "metadata": {},
   "source": [
    "### Librerie"
   ]
  },
  {
   "cell_type": "code",
   "execution_count": null,
   "metadata": {},
   "outputs": [],
   "source": [
    "import sys \n",
    "sys.path.append('../ProgettoTLN_DiCaro')\n",
    "import esercizio1.similarity as es1\n",
    "from nltk.wsd import lesk\n",
    "from collections import Counter\n",
    "from rich.console import Console\n",
    "from rich.table import Table\n",
    "from sklearn.metrics.pairwise import cosine_similarity\n",
    "from sklearn.feature_extraction.text import CountVectorizer\n",
    "from nltk.corpus import wordnet  as wn"
   ]
  },
  {
   "cell_type": "markdown",
   "metadata": {},
   "source": [
    "### Elaborazione"
   ]
  },
  {
   "cell_type": "markdown",
   "metadata": {},
   "source": [
    "Sfruttando i dati elaborati già nell'esercizio uno si è deciso di provare due metodologie per l'ottenimento del termine attraverso la definizione.\n",
    "Il primo verte sulla ricerca degli iponimi dei synset ottenuti dalle descrizioni, calcolando successivamente uno score attraverso la\n",
    "cosine-similarity tra le definizioni di partenza e quelle estratte dagli iponimi.\n",
    "Per fare ciò sono stati utilizzati i synset e gli iponimi più comuni delle parole più frequenti."
   ]
  },
  {
   "cell_type": "code",
   "execution_count": null,
   "metadata": {},
   "outputs": [],
   "source": [
    "def search(phrases):\n",
    "    definitions = {\n",
    "        'door': [],\n",
    "        'ladybug': [],\n",
    "        'pain': [],\n",
    "        'blurriness': []\n",
    "    }\n",
    "    syns= {\n",
    "        'door': [],\n",
    "        'ladybug': [],\n",
    "        'pain': [],\n",
    "        'blurriness': []\n",
    "    }\n",
    "    for concept, phrases_lists in phrases.items():\n",
    "        flat_list = [item for sublist in phrases_lists for item in sublist]\n",
    "        sub_list = Counter(flat_list).most_common()[0:5]\n",
    "        synsets = [wn.synsets(x[0]) for x in sub_list] #estriamo i synsets delle parole piu frequenti\n",
    "\n",
    "        flat_list2 = [item for sublist in synsets for item in sublist]\n",
    "        lemma_name= [x.lemmas()[0].name() for x in flat_list2] #da room.n1 e room.n2, ecc.. a room\n",
    "        sub_list2 = Counter(lemma_name).most_common()[0:10]\n",
    "\n",
    "        hypos = [wn.synsets(x[0])[0].hyponyms() for x in sub_list2] \n",
    "        flat_res = [item for sublist in hypos for item in sublist]\n",
    "        count_syn = Counter(flat_res).most_common()[0:20] #estraggo i primi 20 iponimi\n",
    "\n",
    "        syns[concept] = count_syn  \n",
    "        definitions[concept] = [x[0].definition() for x in count_syn]\n",
    "    definitions_lemmas = es1.lemmatizzation(definitions) \n",
    "    return definitions_lemmas, syns\n",
    "\n",
    "def vectorizer(definitions_lemmas, phrases):\n",
    "    cosine_res= {\n",
    "        'door': [],\n",
    "        'ladybug': [],\n",
    "        'pain': [],\n",
    "        'blurriness': []\n",
    "    }\n",
    "    for key, values in definitions_lemmas.items():\n",
    "        join_def = definitions_lemmas[key] + phrases[key]\n",
    "        document=[]\n",
    "        vectorizer = CountVectorizer()\n",
    "        for elem in join_def:\n",
    "            document.append(\" \".join(elem)) \n",
    "        vectorizer.fit(document)\n",
    "        vector = vectorizer.transform(document)\n",
    "        def_wd = vector[0:len(definitions_lemmas[key])] #divido matrice tra frasi definizioni iponimi e non \n",
    "        def_og = vector[len(definitions_lemmas[key]):(len(definitions_lemmas[key])+(len(phrases[key])))]\n",
    "        tuple_list = []\n",
    "        for elem in def_wd.toarray().tolist():\n",
    "            i = def_wd.toarray().tolist().index(elem)\n",
    "            for elem1 in def_og.toarray().tolist():\n",
    "                j = def_og.toarray().tolist().index(elem1)\n",
    "\n",
    "                tuple_list.append(((cosine_similarity(def_wd[i].toarray(),def_og[j].toarray())[0][0]), i, j))\n",
    "\n",
    "        tuple_list.sort(key=lambda x: x[0], reverse=True)\n",
    "\n",
    "        i = 0\n",
    "        temp=[]\n",
    "        for x in tuple_list:  #prendo i primi 5 synset diversi con il valore più alto\n",
    "            if i < 5:\n",
    "                if x[1] not in temp:\n",
    "                    cosine_res[key].append(x)\n",
    "                    temp.append(x[1])\n",
    "                    i = i+1\n",
    "    return cosine_res\n",
    "\n",
    "def res_score(cos,syns):\n",
    "    occurrences = {\n",
    "        'door': [],\n",
    "        'ladybug': [],\n",
    "        'pain': [],\n",
    "        'blurriness': []\n",
    "    }\n",
    "    for key, value in cos.items():\n",
    "        for x in value:\n",
    "            occurrences[key].append((syns[key][x[1]][0],x[0]))\n",
    "    return occurrences "
   ]
  },
  {
   "cell_type": "markdown",
   "metadata": {},
   "source": [
    "Il secondo approccio sfrutta l'algortimo di Lesk per word-disambiguation, per poi calcolarne uno score."
   ]
  },
  {
   "cell_type": "code",
   "execution_count": null,
   "metadata": {},
   "outputs": [],
   "source": [
    "def wordDisambiguation_search(phrases):\n",
    "    res = {\n",
    "        'door': [],\n",
    "        'ladybug': [],\n",
    "        'pain': [],\n",
    "        'blurriness': []\n",
    "    }\n",
    "    for concept, phrases_lists in phrases.items():\n",
    "        for phrase in phrases_lists:    \n",
    "            res[concept].append(lesk(phrase, concept)) #applico lesk sul contesto data la parola della definizione\n",
    "    return res\n",
    "\n",
    "def res_score_lesk(res):\n",
    "    occurrences = {\n",
    "        'door': [],\n",
    "        'ladybug': [],\n",
    "        'pain': [],\n",
    "        'blurriness': []\n",
    "    }\n",
    "    for key, syn in res.items():\n",
    "        counter = Counter(syn) #conta le occorrenze dei synset nella lista\n",
    "        leng = len(syn)\n",
    "        occurrences[key] = [(value, occ / leng * 100) for value, occ in counter.most_common()] #calcolo la percentuale di ogni synset\n",
    "    return occurrences"
   ]
  },
  {
   "cell_type": "markdown",
   "metadata": {},
   "source": [
    "### Conclusioni"
   ]
  },
  {
   "cell_type": "markdown",
   "metadata": {},
   "source": [
    "Come si può notare dalle tabelle ottenute in output, quella che sfrutta l'algortimo di Lesk risulta più performante, anche se non tutti i concetti vengono riconosciuti correttamente."
   ]
  },
  {
   "cell_type": "code",
   "execution_count": 1,
   "metadata": {},
   "outputs": [
    {
     "data": {
      "text/html": [
       "<pre style=\"white-space:pre;overflow-x:auto;line-height:normal;font-family:Menlo,'DejaVu Sans Mono',consolas,'Courier New',monospace\"><span style=\"font-style: italic\">                    Result                    </span>\n",
       "┏━━━━━━━━━━━━┳━━━━━━━━━━━━━━━━━━━━━━┳━━━━━━━━┓\n",
       "┃<span style=\"font-weight: bold\"> Concept    </span>┃<span style=\"font-weight: bold\"> Synset               </span>┃<span style=\"font-weight: bold\"> Score  </span>┃\n",
       "┡━━━━━━━━━━━━╇━━━━━━━━━━━━━━━━━━━━━━╇━━━━━━━━┩\n",
       "│<span style=\"font-weight: bold\"> door       </span>│<span style=\"font-weight: bold\"> finding.n.03         </span>│<span style=\"font-weight: bold\"> 0.3536 </span>│\n",
       "│<span style=\"font-weight: bold\"> door       </span>│<span style=\"font-weight: bold\"> je_ne_sais_quoi.n.01 </span>│<span style=\"font-weight: bold\"> 0.3536 </span>│\n",
       "│<span style=\"font-weight: bold\"> door       </span>│<span style=\"font-weight: bold\"> door.n.03            </span>│<span style=\"font-weight: bold\"> 0.3162 </span>│\n",
       "│<span style=\"font-weight: bold\"> door       </span>│<span style=\"font-weight: bold\"> growth.n.07          </span>│<span style=\"font-weight: bold\"> 0.2887 </span>│\n",
       "│<span style=\"font-weight: bold\"> door       </span>│<span style=\"font-weight: bold\"> keepsake.n.01        </span>│<span style=\"font-weight: bold\"> 0.2887 </span>│\n",
       "│<span style=\"font-weight: bold\"> ladybug    </span>│<span style=\"font-weight: bold\"> sanguine.n.01        </span>│<span style=\"font-weight: bold\"> 0.4364 </span>│\n",
       "│<span style=\"font-weight: bold\"> ladybug    </span>│<span style=\"font-weight: bold\"> scarlet.n.01         </span>│<span style=\"font-weight: bold\"> 0.4286 </span>│\n",
       "│<span style=\"font-weight: bold\"> ladybug    </span>│<span style=\"font-weight: bold\"> cerise.n.01          </span>│<span style=\"font-weight: bold\"> 0.378  </span>│\n",
       "│<span style=\"font-weight: bold\"> ladybug    </span>│<span style=\"font-weight: bold\"> crimson.n.01         </span>│<span style=\"font-weight: bold\"> 0.378  </span>│\n",
       "│<span style=\"font-weight: bold\"> ladybug    </span>│<span style=\"font-weight: bold\"> turkey_red.n.01      </span>│<span style=\"font-weight: bold\"> 0.378  </span>│\n",
       "│<span style=\"font-weight: bold\"> pain       </span>│<span style=\"font-weight: bold\"> masking.n.02         </span>│<span style=\"font-weight: bold\"> 0.4714 </span>│\n",
       "│<span style=\"font-weight: bold\"> pain       </span>│<span style=\"font-weight: bold\"> threshold.n.02       </span>│<span style=\"font-weight: bold\"> 0.4082 </span>│\n",
       "│<span style=\"font-weight: bold\"> pain       </span>│<span style=\"font-weight: bold\"> etiology.n.01        </span>│<span style=\"font-weight: bold\"> 0.3922 </span>│\n",
       "│<span style=\"font-weight: bold\"> pain       </span>│<span style=\"font-weight: bold\"> sound.n.02           </span>│<span style=\"font-weight: bold\"> 0.3536 </span>│\n",
       "│<span style=\"font-weight: bold\"> pain       </span>│<span style=\"font-weight: bold\"> texture.n.01         </span>│<span style=\"font-weight: bold\"> 0.3333 </span>│\n",
       "│<span style=\"font-weight: bold\"> blurriness </span>│<span style=\"font-weight: bold\"> visual_image.n.01    </span>│<span style=\"font-weight: bold\"> 0.4472 </span>│\n",
       "│<span style=\"font-weight: bold\"> blurriness </span>│<span style=\"font-weight: bold\"> oculus_dexter.n.01   </span>│<span style=\"font-weight: bold\"> 0.3536 </span>│\n",
       "│<span style=\"font-weight: bold\"> blurriness </span>│<span style=\"font-weight: bold\"> oculus_sinister.n.01 </span>│<span style=\"font-weight: bold\"> 0.3536 </span>│\n",
       "│<span style=\"font-weight: bold\"> blurriness </span>│<span style=\"font-weight: bold\"> interpret.v.01       </span>│<span style=\"font-weight: bold\"> 0.3536 </span>│\n",
       "│<span style=\"font-weight: bold\"> blurriness </span>│<span style=\"font-weight: bold\"> simple_eye.n.01      </span>│<span style=\"font-weight: bold\"> 0.2887 </span>│\n",
       "└────────────┴──────────────────────┴────────┘\n",
       "</pre>\n"
      ],
      "text/plain": [
       "\u001b[3m                    Result                    \u001b[0m\n",
       "┏━━━━━━━━━━━━┳━━━━━━━━━━━━━━━━━━━━━━┳━━━━━━━━┓\n",
       "┃\u001b[1m \u001b[0m\u001b[1mConcept   \u001b[0m\u001b[1m \u001b[0m┃\u001b[1m \u001b[0m\u001b[1mSynset              \u001b[0m\u001b[1m \u001b[0m┃\u001b[1m \u001b[0m\u001b[1mScore \u001b[0m\u001b[1m \u001b[0m┃\n",
       "┡━━━━━━━━━━━━╇━━━━━━━━━━━━━━━━━━━━━━╇━━━━━━━━┩\n",
       "│\u001b[1m \u001b[0m\u001b[1mdoor      \u001b[0m\u001b[1m \u001b[0m│\u001b[1m \u001b[0m\u001b[1mfinding.n.03        \u001b[0m\u001b[1m \u001b[0m│\u001b[1m \u001b[0m\u001b[1m0.3536\u001b[0m\u001b[1m \u001b[0m│\n",
       "│\u001b[1m \u001b[0m\u001b[1mdoor      \u001b[0m\u001b[1m \u001b[0m│\u001b[1m \u001b[0m\u001b[1mje_ne_sais_quoi.n.01\u001b[0m\u001b[1m \u001b[0m│\u001b[1m \u001b[0m\u001b[1m0.3536\u001b[0m\u001b[1m \u001b[0m│\n",
       "│\u001b[1m \u001b[0m\u001b[1mdoor      \u001b[0m\u001b[1m \u001b[0m│\u001b[1m \u001b[0m\u001b[1mdoor.n.03           \u001b[0m\u001b[1m \u001b[0m│\u001b[1m \u001b[0m\u001b[1m0.3162\u001b[0m\u001b[1m \u001b[0m│\n",
       "│\u001b[1m \u001b[0m\u001b[1mdoor      \u001b[0m\u001b[1m \u001b[0m│\u001b[1m \u001b[0m\u001b[1mgrowth.n.07         \u001b[0m\u001b[1m \u001b[0m│\u001b[1m \u001b[0m\u001b[1m0.2887\u001b[0m\u001b[1m \u001b[0m│\n",
       "│\u001b[1m \u001b[0m\u001b[1mdoor      \u001b[0m\u001b[1m \u001b[0m│\u001b[1m \u001b[0m\u001b[1mkeepsake.n.01       \u001b[0m\u001b[1m \u001b[0m│\u001b[1m \u001b[0m\u001b[1m0.2887\u001b[0m\u001b[1m \u001b[0m│\n",
       "│\u001b[1m \u001b[0m\u001b[1mladybug   \u001b[0m\u001b[1m \u001b[0m│\u001b[1m \u001b[0m\u001b[1msanguine.n.01       \u001b[0m\u001b[1m \u001b[0m│\u001b[1m \u001b[0m\u001b[1m0.4364\u001b[0m\u001b[1m \u001b[0m│\n",
       "│\u001b[1m \u001b[0m\u001b[1mladybug   \u001b[0m\u001b[1m \u001b[0m│\u001b[1m \u001b[0m\u001b[1mscarlet.n.01        \u001b[0m\u001b[1m \u001b[0m│\u001b[1m \u001b[0m\u001b[1m0.4286\u001b[0m\u001b[1m \u001b[0m│\n",
       "│\u001b[1m \u001b[0m\u001b[1mladybug   \u001b[0m\u001b[1m \u001b[0m│\u001b[1m \u001b[0m\u001b[1mcerise.n.01         \u001b[0m\u001b[1m \u001b[0m│\u001b[1m \u001b[0m\u001b[1m0.378 \u001b[0m\u001b[1m \u001b[0m│\n",
       "│\u001b[1m \u001b[0m\u001b[1mladybug   \u001b[0m\u001b[1m \u001b[0m│\u001b[1m \u001b[0m\u001b[1mcrimson.n.01        \u001b[0m\u001b[1m \u001b[0m│\u001b[1m \u001b[0m\u001b[1m0.378 \u001b[0m\u001b[1m \u001b[0m│\n",
       "│\u001b[1m \u001b[0m\u001b[1mladybug   \u001b[0m\u001b[1m \u001b[0m│\u001b[1m \u001b[0m\u001b[1mturkey_red.n.01     \u001b[0m\u001b[1m \u001b[0m│\u001b[1m \u001b[0m\u001b[1m0.378 \u001b[0m\u001b[1m \u001b[0m│\n",
       "│\u001b[1m \u001b[0m\u001b[1mpain      \u001b[0m\u001b[1m \u001b[0m│\u001b[1m \u001b[0m\u001b[1mmasking.n.02        \u001b[0m\u001b[1m \u001b[0m│\u001b[1m \u001b[0m\u001b[1m0.4714\u001b[0m\u001b[1m \u001b[0m│\n",
       "│\u001b[1m \u001b[0m\u001b[1mpain      \u001b[0m\u001b[1m \u001b[0m│\u001b[1m \u001b[0m\u001b[1mthreshold.n.02      \u001b[0m\u001b[1m \u001b[0m│\u001b[1m \u001b[0m\u001b[1m0.4082\u001b[0m\u001b[1m \u001b[0m│\n",
       "│\u001b[1m \u001b[0m\u001b[1mpain      \u001b[0m\u001b[1m \u001b[0m│\u001b[1m \u001b[0m\u001b[1metiology.n.01       \u001b[0m\u001b[1m \u001b[0m│\u001b[1m \u001b[0m\u001b[1m0.3922\u001b[0m\u001b[1m \u001b[0m│\n",
       "│\u001b[1m \u001b[0m\u001b[1mpain      \u001b[0m\u001b[1m \u001b[0m│\u001b[1m \u001b[0m\u001b[1msound.n.02          \u001b[0m\u001b[1m \u001b[0m│\u001b[1m \u001b[0m\u001b[1m0.3536\u001b[0m\u001b[1m \u001b[0m│\n",
       "│\u001b[1m \u001b[0m\u001b[1mpain      \u001b[0m\u001b[1m \u001b[0m│\u001b[1m \u001b[0m\u001b[1mtexture.n.01        \u001b[0m\u001b[1m \u001b[0m│\u001b[1m \u001b[0m\u001b[1m0.3333\u001b[0m\u001b[1m \u001b[0m│\n",
       "│\u001b[1m \u001b[0m\u001b[1mblurriness\u001b[0m\u001b[1m \u001b[0m│\u001b[1m \u001b[0m\u001b[1mvisual_image.n.01   \u001b[0m\u001b[1m \u001b[0m│\u001b[1m \u001b[0m\u001b[1m0.4472\u001b[0m\u001b[1m \u001b[0m│\n",
       "│\u001b[1m \u001b[0m\u001b[1mblurriness\u001b[0m\u001b[1m \u001b[0m│\u001b[1m \u001b[0m\u001b[1moculus_dexter.n.01  \u001b[0m\u001b[1m \u001b[0m│\u001b[1m \u001b[0m\u001b[1m0.3536\u001b[0m\u001b[1m \u001b[0m│\n",
       "│\u001b[1m \u001b[0m\u001b[1mblurriness\u001b[0m\u001b[1m \u001b[0m│\u001b[1m \u001b[0m\u001b[1moculus_sinister.n.01\u001b[0m\u001b[1m \u001b[0m│\u001b[1m \u001b[0m\u001b[1m0.3536\u001b[0m\u001b[1m \u001b[0m│\n",
       "│\u001b[1m \u001b[0m\u001b[1mblurriness\u001b[0m\u001b[1m \u001b[0m│\u001b[1m \u001b[0m\u001b[1minterpret.v.01      \u001b[0m\u001b[1m \u001b[0m│\u001b[1m \u001b[0m\u001b[1m0.3536\u001b[0m\u001b[1m \u001b[0m│\n",
       "│\u001b[1m \u001b[0m\u001b[1mblurriness\u001b[0m\u001b[1m \u001b[0m│\u001b[1m \u001b[0m\u001b[1msimple_eye.n.01     \u001b[0m\u001b[1m \u001b[0m│\u001b[1m \u001b[0m\u001b[1m0.2887\u001b[0m\u001b[1m \u001b[0m│\n",
       "└────────────┴──────────────────────┴────────┘\n"
      ]
     },
     "metadata": {},
     "output_type": "display_data"
    },
    {
     "data": {
      "text/html": [
       "<pre style=\"white-space:pre;overflow-x:auto;line-height:normal;font-family:Menlo,'DejaVu Sans Mono',consolas,'Courier New',monospace\"><span style=\"font-style: italic\">                    Result                    </span>\n",
       "┏━━━━━━━━━━━━┳━━━━━━━━━━━━━━━━━━━━━┳━━━━━━━━━┓\n",
       "┃<span style=\"font-weight: bold\"> Concept    </span>┃<span style=\"font-weight: bold\"> Synset              </span>┃<span style=\"font-weight: bold\"> Score   </span>┃\n",
       "┡━━━━━━━━━━━━╇━━━━━━━━━━━━━━━━━━━━━╇━━━━━━━━━┩\n",
       "│<span style=\"font-weight: bold\"> door       </span>│<span style=\"font-weight: bold\"> doorway.n.01        </span>│<span style=\"font-weight: bold\"> 76.6667 </span>│\n",
       "│<span style=\"font-weight: bold\"> door       </span>│<span style=\"font-weight: bold\"> door.n.03           </span>│<span style=\"font-weight: bold\"> 10.0    </span>│\n",
       "│<span style=\"font-weight: bold\"> door       </span>│<span style=\"font-weight: bold\"> door.n.04           </span>│<span style=\"font-weight: bold\"> 6.6667  </span>│\n",
       "│<span style=\"font-weight: bold\"> door       </span>│<span style=\"font-weight: bold\"> door.n.01           </span>│<span style=\"font-weight: bold\"> 6.6667  </span>│\n",
       "│<span style=\"font-weight: bold\"> ladybug    </span>│<span style=\"font-weight: bold\"> ladybug.n.01        </span>│<span style=\"font-weight: bold\"> 100.0   </span>│\n",
       "│<span style=\"font-weight: bold\"> pain       </span>│<span style=\"font-weight: bold\"> pain.n.03           </span>│<span style=\"font-weight: bold\"> 26.6667 </span>│\n",
       "│<span style=\"font-weight: bold\"> pain       </span>│<span style=\"font-weight: bold\"> pain.v.02           </span>│<span style=\"font-weight: bold\"> 23.3333 </span>│\n",
       "│<span style=\"font-weight: bold\"> pain       </span>│<span style=\"font-weight: bold\"> trouble.v.05        </span>│<span style=\"font-weight: bold\"> 20.0    </span>│\n",
       "│<span style=\"font-weight: bold\"> pain       </span>│<span style=\"font-weight: bold\"> pain.n.02           </span>│<span style=\"font-weight: bold\"> 13.3333 </span>│\n",
       "│<span style=\"font-weight: bold\"> pain       </span>│<span style=\"font-weight: bold\"> pain.n.01           </span>│<span style=\"font-weight: bold\"> 10.0    </span>│\n",
       "│<span style=\"font-weight: bold\"> pain       </span>│<span style=\"font-weight: bold\"> annoyance.n.04      </span>│<span style=\"font-weight: bold\"> 3.3333  </span>│\n",
       "│<span style=\"font-weight: bold\"> pain       </span>│<span style=\"font-weight: bold\"> pain.n.04           </span>│<span style=\"font-weight: bold\"> 3.3333  </span>│\n",
       "│<span style=\"font-weight: bold\"> blurriness </span>│<span style=\"font-weight: bold\"> indistinctness.n.01 </span>│<span style=\"font-weight: bold\"> 100.0   </span>│\n",
       "└────────────┴─────────────────────┴─────────┘\n",
       "</pre>\n"
      ],
      "text/plain": [
       "\u001b[3m                    Result                    \u001b[0m\n",
       "┏━━━━━━━━━━━━┳━━━━━━━━━━━━━━━━━━━━━┳━━━━━━━━━┓\n",
       "┃\u001b[1m \u001b[0m\u001b[1mConcept   \u001b[0m\u001b[1m \u001b[0m┃\u001b[1m \u001b[0m\u001b[1mSynset             \u001b[0m\u001b[1m \u001b[0m┃\u001b[1m \u001b[0m\u001b[1mScore  \u001b[0m\u001b[1m \u001b[0m┃\n",
       "┡━━━━━━━━━━━━╇━━━━━━━━━━━━━━━━━━━━━╇━━━━━━━━━┩\n",
       "│\u001b[1m \u001b[0m\u001b[1mdoor      \u001b[0m\u001b[1m \u001b[0m│\u001b[1m \u001b[0m\u001b[1mdoorway.n.01       \u001b[0m\u001b[1m \u001b[0m│\u001b[1m \u001b[0m\u001b[1m76.6667\u001b[0m\u001b[1m \u001b[0m│\n",
       "│\u001b[1m \u001b[0m\u001b[1mdoor      \u001b[0m\u001b[1m \u001b[0m│\u001b[1m \u001b[0m\u001b[1mdoor.n.03          \u001b[0m\u001b[1m \u001b[0m│\u001b[1m \u001b[0m\u001b[1m10.0   \u001b[0m\u001b[1m \u001b[0m│\n",
       "│\u001b[1m \u001b[0m\u001b[1mdoor      \u001b[0m\u001b[1m \u001b[0m│\u001b[1m \u001b[0m\u001b[1mdoor.n.04          \u001b[0m\u001b[1m \u001b[0m│\u001b[1m \u001b[0m\u001b[1m6.6667 \u001b[0m\u001b[1m \u001b[0m│\n",
       "│\u001b[1m \u001b[0m\u001b[1mdoor      \u001b[0m\u001b[1m \u001b[0m│\u001b[1m \u001b[0m\u001b[1mdoor.n.01          \u001b[0m\u001b[1m \u001b[0m│\u001b[1m \u001b[0m\u001b[1m6.6667 \u001b[0m\u001b[1m \u001b[0m│\n",
       "│\u001b[1m \u001b[0m\u001b[1mladybug   \u001b[0m\u001b[1m \u001b[0m│\u001b[1m \u001b[0m\u001b[1mladybug.n.01       \u001b[0m\u001b[1m \u001b[0m│\u001b[1m \u001b[0m\u001b[1m100.0  \u001b[0m\u001b[1m \u001b[0m│\n",
       "│\u001b[1m \u001b[0m\u001b[1mpain      \u001b[0m\u001b[1m \u001b[0m│\u001b[1m \u001b[0m\u001b[1mpain.n.03          \u001b[0m\u001b[1m \u001b[0m│\u001b[1m \u001b[0m\u001b[1m26.6667\u001b[0m\u001b[1m \u001b[0m│\n",
       "│\u001b[1m \u001b[0m\u001b[1mpain      \u001b[0m\u001b[1m \u001b[0m│\u001b[1m \u001b[0m\u001b[1mpain.v.02          \u001b[0m\u001b[1m \u001b[0m│\u001b[1m \u001b[0m\u001b[1m23.3333\u001b[0m\u001b[1m \u001b[0m│\n",
       "│\u001b[1m \u001b[0m\u001b[1mpain      \u001b[0m\u001b[1m \u001b[0m│\u001b[1m \u001b[0m\u001b[1mtrouble.v.05       \u001b[0m\u001b[1m \u001b[0m│\u001b[1m \u001b[0m\u001b[1m20.0   \u001b[0m\u001b[1m \u001b[0m│\n",
       "│\u001b[1m \u001b[0m\u001b[1mpain      \u001b[0m\u001b[1m \u001b[0m│\u001b[1m \u001b[0m\u001b[1mpain.n.02          \u001b[0m\u001b[1m \u001b[0m│\u001b[1m \u001b[0m\u001b[1m13.3333\u001b[0m\u001b[1m \u001b[0m│\n",
       "│\u001b[1m \u001b[0m\u001b[1mpain      \u001b[0m\u001b[1m \u001b[0m│\u001b[1m \u001b[0m\u001b[1mpain.n.01          \u001b[0m\u001b[1m \u001b[0m│\u001b[1m \u001b[0m\u001b[1m10.0   \u001b[0m\u001b[1m \u001b[0m│\n",
       "│\u001b[1m \u001b[0m\u001b[1mpain      \u001b[0m\u001b[1m \u001b[0m│\u001b[1m \u001b[0m\u001b[1mannoyance.n.04     \u001b[0m\u001b[1m \u001b[0m│\u001b[1m \u001b[0m\u001b[1m3.3333 \u001b[0m\u001b[1m \u001b[0m│\n",
       "│\u001b[1m \u001b[0m\u001b[1mpain      \u001b[0m\u001b[1m \u001b[0m│\u001b[1m \u001b[0m\u001b[1mpain.n.04          \u001b[0m\u001b[1m \u001b[0m│\u001b[1m \u001b[0m\u001b[1m3.3333 \u001b[0m\u001b[1m \u001b[0m│\n",
       "│\u001b[1m \u001b[0m\u001b[1mblurriness\u001b[0m\u001b[1m \u001b[0m│\u001b[1m \u001b[0m\u001b[1mindistinctness.n.01\u001b[0m\u001b[1m \u001b[0m│\u001b[1m \u001b[0m\u001b[1m100.0  \u001b[0m\u001b[1m \u001b[0m│\n",
       "└────────────┴─────────────────────┴─────────┘\n"
      ]
     },
     "metadata": {},
     "output_type": "display_data"
    }
   ],
   "source": [
    "def print_table(results):\n",
    "    console = Console()\n",
    "    table = Table(title=\"Result\")\n",
    "    table.add_column(\"Concept\", style=\"bold\")\n",
    "    table.add_column(\"Synset\", style=\"bold\")\n",
    "    table.add_column(\"Score\", style=\"bold\")\n",
    "    for key, value in results.items():\n",
    "        for score in value:\n",
    "            table.add_row(key, score[0].name(), str(round(score[1],4)))\n",
    "    console.print(table)"
   ]
  }
 ],
 "metadata": {
  "kernelspec": {
   "display_name": "Python 3",
   "language": "python",
   "name": "python3"
  },
  "language_info": {
   "codemirror_mode": {
    "name": "ipython",
    "version": 3
   },
   "file_extension": ".py",
   "mimetype": "text/x-python",
   "name": "python",
   "nbconvert_exporter": "python",
   "pygments_lexer": "ipython3",
   "version": "3.11.2"
  },
  "orig_nbformat": 4
 },
 "nbformat": 4,
 "nbformat_minor": 2
}
