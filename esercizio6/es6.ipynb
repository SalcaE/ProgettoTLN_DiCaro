{
 "cells": [
  {
   "cell_type": "markdown",
   "metadata": {},
   "source": [
    "# Esercizio Lab-6c: Classification\n"
   ]
  },
  {
   "cell_type": "markdown",
   "metadata": {},
   "source": [
    "## Librerie principali\n"
   ]
  },
  {
   "cell_type": "code",
   "execution_count": 12,
   "metadata": {},
   "outputs": [],
   "source": [
    "import os\n",
    "import json as js\n",
    "import numpy as np\n",
    "from sklearn.tree import DecisionTreeClassifier\n",
    "from sklearn.model_selection import LeaveOneOut, cross_val_score\n",
    "from sklearn.preprocessing import LabelEncoder\n",
    "from sklearn.model_selection import train_test_split\n",
    "from sklearn.linear_model import LogisticRegression\n",
    "from sklearn.model_selection import KFold\n",
    "from sklearn.model_selection import cross_val_score\n",
    "from sklearn.model_selection import StratifiedKFold\n",
    "import pandas as pd"
   ]
  },
  {
   "cell_type": "markdown",
   "metadata": {},
   "source": [
    "## Preparazione dei dati"
   ]
  },
  {
   "cell_type": "markdown",
   "metadata": {},
   "source": [
    "Ogni file JSON viene processato ottenendone una media dei valori per poi estrarre le feauture per il learning "
   ]
  },
  {
   "cell_type": "code",
   "execution_count": 27,
   "metadata": {},
   "outputs": [
    {
     "name": "stdout",
     "output_type": "stream",
     "text": [
      "                                 syn difficulty  len  category    time\n",
      "0                           war.n.01       easy    8     basic  3.3025\n",
      "1                       fiefdom.n.01       easy   12  advanced  2.8927\n",
      "2                           bed.n.03       easy    8     basic  2.5290\n",
      "3    return_on_invested_capital.n.01       easy   31  advanced  3.6712\n",
      "4                       texture.n.02       easy   12     basic  4.0939\n",
      "..                               ...        ...  ...       ...     ...\n",
      "499                     reading.n.03       easy   12     basic  1.4891\n",
      "500           sanctimoniousness.n.01       easy   22  advanced  2.2836\n",
      "501                  chalcedony.n.01       easy   15  advanced  1.6128\n",
      "502                    stopcock.n.01       easy   13  advanced  1.4985\n",
      "503                  backpacker.n.01       easy   15  advanced  2.1100\n",
      "\n",
      "[504 rows x 5 columns]\n"
     ]
    }
   ],
   "source": [
    "\n",
    "elements= {}\n",
    "index = 0\n",
    "file_location = \"C:/Users/xed98/Desktop/ProgettoTLN_DiCaro/esercizio6/dataset_basic_advanced_TLN2023/\"\n",
    "for file_name in os.listdir(file_location):\n",
    "\n",
    "    f=open(file_location + file_name, 'r')\n",
    "    data_worker = js.load(f)\n",
    "\n",
    "    for i, syn in enumerate(data_worker['dataset']):\n",
    "        values=[0,0,0,0,0] #hard T-F, Basic, Adv, time\n",
    "\n",
    "        if data_worker['isHard'][i] == True:\n",
    "            values[0] = values[0] + 1\n",
    "        else:\n",
    "            values[1] = values[1] + 1\n",
    "\n",
    "        if data_worker['answers'][i] == \"basic\":\n",
    "            values[2] = values[2] + 1\n",
    "        else:\n",
    "            values[3] = values[3] + 1\n",
    "\n",
    "        values[4] = data_worker['timeDiffs'][i]\n",
    "\n",
    "        if syn.split('\\'')[1] in elements: \n",
    "                \n",
    "                x = elements[syn.split('\\'')[1]]\n",
    "                values = [x[i] + values[i] for i in range(len(x))]\n",
    "                if index == len(os.listdir(file_location))-1:\n",
    "                    p = values[4]/10\n",
    "                    values[4] = p\n",
    "\n",
    "        elements[syn.split('\\'')[1]] = values\n",
    "    index = index + 1\n",
    "\n",
    "data = {\n",
    "    'syn': [],\n",
    "    'difficulty': [],\n",
    "    'len':[],\n",
    "    'category': [],\n",
    "    'time': []\n",
    "}\n",
    "\n",
    "for key, elem in elements.items():\n",
    "\n",
    "    data['syn'].append(key)\n",
    "    data['len'].append(len(key))\n",
    "    data['time'].append(elem[4])\n",
    "\n",
    "    if elem[0] > elem[1]:\n",
    "        data['difficulty'].append('hard')\n",
    "    else:\n",
    "        data['difficulty'].append('easy')\n",
    "\n",
    "    if elem[2] > elem[3]:\n",
    "        data['category'].append('basic')\n",
    "    else:\n",
    "        data['category'].append('advanced')\n",
    "df = pd.DataFrame(data)\n",
    "print(df)\n",
    "\n",
    "le = LabelEncoder()\n",
    "label = le.fit_transform(df['category']) #basic 1 | advanced 0\n",
    "label1 = le.fit_transform(df['difficulty'])\n",
    "label2 = le.fit_transform(df['syn'])\n",
    "\n",
    "df.drop(\"category\", axis=1, inplace=True)\n",
    "df.drop(\"difficulty\", axis=1, inplace=True)\n",
    "df.drop(\"syn\", axis=1, inplace=True)\n",
    "\n",
    "df[\"syn\"] = label2\n",
    "df[\"difficulty\"] = label1\n",
    "df[\"category\"] = label\n"
   ]
  },
  {
   "cell_type": "markdown",
   "metadata": {},
   "source": [
    "I dati vengono inseriti in un dataframe dalla seguente forma:"
   ]
  },
  {
   "cell_type": "markdown",
   "metadata": {},
   "source": [
    "## Classifier"
   ]
  },
  {
   "cell_type": "markdown",
   "metadata": {},
   "source": [
    "La seguente funzione utilizza quattro diversi metodi di cross-validation per realizzare il training sui modelli utilizzati per la classificazione dei dati."
   ]
  },
  {
   "cell_type": "code",
   "execution_count": null,
   "metadata": {},
   "outputs": [],
   "source": [
    "def classifier(data):\n",
    "    train_data = data.iloc[:,0:4]\n",
    "    target = data.iloc[:,4]\n",
    "    X_train, X_test, y_train, y_test = train_test_split(train_data,target,test_size=0.2)\n",
    "\n",
    "    lr = LogisticRegression(solver='liblinear',multi_class='ovr')\n",
    "    lr.fit(X_train, y_train)\n",
    "    print('LOGIC REGRESSION score: ', lr.score(X_test, y_test))\n",
    "\n",
    "\n",
    "    model=DecisionTreeClassifier()\n",
    "    leave_val=LeaveOneOut()\n",
    "    mod_score2=cross_val_score(model,X_train,y_train,cv=leave_val)\n",
    "    print('LEAVE ONE OUT score: ',np.mean(mod_score2))\n",
    "\n",
    "\n",
    "    model=DecisionTreeClassifier()\n",
    "    kfold_validation=KFold(100)\n",
    "    mod_score3=cross_val_score(model,X_train,y_train,cv=kfold_validation)\n",
    "    print('KFOLD score: ',np.mean(mod_score3))\n",
    "\n",
    "\n",
    "    sk_fold=StratifiedKFold(n_splits=100)\n",
    "    model=DecisionTreeClassifier()\n",
    "    mod_score4=cross_val_score(model,X_train,y_train,cv=sk_fold)\n",
    "    print('STRATIFIED KFOLD score: ',np.mean(mod_score4))\n"
   ]
  },
  {
   "cell_type": "markdown",
   "metadata": {},
   "source": [
    "Ogni metodo restituisce risultati simili tra loro:"
   ]
  },
  {
   "cell_type": "markdown",
   "metadata": {},
   "source": [
    "- LOGIC REGRESSION score:  0.7227722772277227\n",
    "\n",
    "LEAVE ONE OUT score:  0.6997518610421837\n",
    "\n",
    "KFOLD score:  0.7090000000000001\n",
    "\n",
    "STRATIFIED KFOLD score:  0.7145"
   ]
  }
 ],
 "metadata": {
  "kernelspec": {
   "display_name": "Python 3",
   "language": "python",
   "name": "python3"
  },
  "language_info": {
   "codemirror_mode": {
    "name": "ipython",
    "version": 3
   },
   "file_extension": ".py",
   "mimetype": "text/x-python",
   "name": "python",
   "nbconvert_exporter": "python",
   "pygments_lexer": "ipython3",
   "version": "3.11.2"
  },
  "orig_nbformat": 4
 },
 "nbformat": 4,
 "nbformat_minor": 2
}
